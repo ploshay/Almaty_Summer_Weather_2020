{
 "cells": [
  {
   "cell_type": "markdown",
   "metadata": {},
   "source": [
    "# The question I want to answer is simple:\n",
    "## Was the first two months of summer in 2020 warmer or colder than regular summer weather?"
   ]
  },
  {
   "cell_type": "code",
   "execution_count": 32,
   "metadata": {},
   "outputs": [],
   "source": [
    "import pandas as pd\n",
    "import numpy as np\n",
    "from scipy.stats import ttest_ind\n",
    "import matplotlib.pyplot as plt\n",
    "%matplotlib inline\n",
    "from sklearn.linear_model import LinearRegression"
   ]
  },
  {
   "cell_type": "markdown",
   "metadata": {},
   "source": [
    "Data from the year 1901 to the year 2016 is from The World Bank:\n",
    "\n",
    "https://climateknowledgeportal.worldbank.org/download-data"
   ]
  },
  {
   "cell_type": "code",
   "execution_count": 33,
   "metadata": {},
   "outputs": [
    {
     "data": {
      "text/html": [
       "<div>\n",
       "<style scoped>\n",
       "    .dataframe tbody tr th:only-of-type {\n",
       "        vertical-align: middle;\n",
       "    }\n",
       "\n",
       "    .dataframe tbody tr th {\n",
       "        vertical-align: top;\n",
       "    }\n",
       "\n",
       "    .dataframe thead th {\n",
       "        text-align: right;\n",
       "    }\n",
       "</style>\n",
       "<table border=\"1\" class=\"dataframe\">\n",
       "  <thead>\n",
       "    <tr style=\"text-align: right;\">\n",
       "      <th></th>\n",
       "      <th>Temperature - (Celsius)</th>\n",
       "      <th>Year</th>\n",
       "      <th>Statistics</th>\n",
       "      <th>Longitude</th>\n",
       "      <th>Latitude</th>\n",
       "    </tr>\n",
       "  </thead>\n",
       "  <tbody>\n",
       "    <tr>\n",
       "      <th>0</th>\n",
       "      <td>-8.600000</td>\n",
       "      <td>1901</td>\n",
       "      <td>Jan Average</td>\n",
       "      <td>76.889709</td>\n",
       "      <td>43.238949</td>\n",
       "    </tr>\n",
       "    <tr>\n",
       "      <th>1</th>\n",
       "      <td>-7.900000</td>\n",
       "      <td>1901</td>\n",
       "      <td>Feb Average</td>\n",
       "      <td>76.889709</td>\n",
       "      <td>43.238949</td>\n",
       "    </tr>\n",
       "    <tr>\n",
       "      <th>2</th>\n",
       "      <td>4.400000</td>\n",
       "      <td>1901</td>\n",
       "      <td>Mar Average</td>\n",
       "      <td>76.889709</td>\n",
       "      <td>43.238949</td>\n",
       "    </tr>\n",
       "    <tr>\n",
       "      <th>3</th>\n",
       "      <td>9.400001</td>\n",
       "      <td>1901</td>\n",
       "      <td>Apr Average</td>\n",
       "      <td>76.889709</td>\n",
       "      <td>43.238949</td>\n",
       "    </tr>\n",
       "    <tr>\n",
       "      <th>4</th>\n",
       "      <td>13.100000</td>\n",
       "      <td>1901</td>\n",
       "      <td>May Average</td>\n",
       "      <td>76.889709</td>\n",
       "      <td>43.238949</td>\n",
       "    </tr>\n",
       "  </tbody>\n",
       "</table>\n",
       "</div>"
      ],
      "text/plain": [
       "   Temperature - (Celsius)   Year    Statistics   Longitude   Latitude\n",
       "0                -8.600000   1901   Jan Average   76.889709  43.238949\n",
       "1                -7.900000   1901   Feb Average   76.889709  43.238949\n",
       "2                 4.400000   1901   Mar Average   76.889709  43.238949\n",
       "3                 9.400001   1901   Apr Average   76.889709  43.238949\n",
       "4                13.100000   1901   May Average   76.889709  43.238949"
      ]
     },
     "execution_count": 33,
     "metadata": {},
     "output_type": "execute_result"
    }
   ],
   "source": [
    "# read file with WB-data\n",
    "df = pd.read_csv('WB_Weather_Almaty.csv')\n",
    "df.head()"
   ]
  },
  {
   "cell_type": "code",
   "execution_count": 34,
   "metadata": {},
   "outputs": [
    {
     "data": {
      "text/html": [
       "<div>\n",
       "<style scoped>\n",
       "    .dataframe tbody tr th:only-of-type {\n",
       "        vertical-align: middle;\n",
       "    }\n",
       "\n",
       "    .dataframe tbody tr th {\n",
       "        vertical-align: top;\n",
       "    }\n",
       "\n",
       "    .dataframe thead th {\n",
       "        text-align: right;\n",
       "    }\n",
       "</style>\n",
       "<table border=\"1\" class=\"dataframe\">\n",
       "  <thead>\n",
       "    <tr style=\"text-align: right;\">\n",
       "      <th></th>\n",
       "      <th>Temp</th>\n",
       "      <th>Year</th>\n",
       "      <th>Month</th>\n",
       "      <th>Longitude</th>\n",
       "      <th>Latitude</th>\n",
       "    </tr>\n",
       "  </thead>\n",
       "  <tbody>\n",
       "    <tr>\n",
       "      <th>0</th>\n",
       "      <td>-8.600000</td>\n",
       "      <td>1901</td>\n",
       "      <td>Jan Average</td>\n",
       "      <td>76.889709</td>\n",
       "      <td>43.238949</td>\n",
       "    </tr>\n",
       "    <tr>\n",
       "      <th>1</th>\n",
       "      <td>-7.900000</td>\n",
       "      <td>1901</td>\n",
       "      <td>Feb Average</td>\n",
       "      <td>76.889709</td>\n",
       "      <td>43.238949</td>\n",
       "    </tr>\n",
       "    <tr>\n",
       "      <th>2</th>\n",
       "      <td>4.400000</td>\n",
       "      <td>1901</td>\n",
       "      <td>Mar Average</td>\n",
       "      <td>76.889709</td>\n",
       "      <td>43.238949</td>\n",
       "    </tr>\n",
       "    <tr>\n",
       "      <th>3</th>\n",
       "      <td>9.400001</td>\n",
       "      <td>1901</td>\n",
       "      <td>Apr Average</td>\n",
       "      <td>76.889709</td>\n",
       "      <td>43.238949</td>\n",
       "    </tr>\n",
       "    <tr>\n",
       "      <th>4</th>\n",
       "      <td>13.100000</td>\n",
       "      <td>1901</td>\n",
       "      <td>May Average</td>\n",
       "      <td>76.889709</td>\n",
       "      <td>43.238949</td>\n",
       "    </tr>\n",
       "  </tbody>\n",
       "</table>\n",
       "</div>"
      ],
      "text/plain": [
       "        Temp  Year         Month  Longitude   Latitude\n",
       "0  -8.600000  1901   Jan Average  76.889709  43.238949\n",
       "1  -7.900000  1901   Feb Average  76.889709  43.238949\n",
       "2   4.400000  1901   Mar Average  76.889709  43.238949\n",
       "3   9.400001  1901   Apr Average  76.889709  43.238949\n",
       "4  13.100000  1901   May Average  76.889709  43.238949"
      ]
     },
     "execution_count": 34,
     "metadata": {},
     "output_type": "execute_result"
    }
   ],
   "source": [
    "# change column names\n",
    "df.columns=['Temp', 'Year', 'Month', 'Longitude', 'Latitude']\n",
    "df.head()"
   ]
  },
  {
   "cell_type": "code",
   "execution_count": 35,
   "metadata": {},
   "outputs": [
    {
     "data": {
      "text/html": [
       "<div>\n",
       "<style scoped>\n",
       "    .dataframe tbody tr th:only-of-type {\n",
       "        vertical-align: middle;\n",
       "    }\n",
       "\n",
       "    .dataframe tbody tr th {\n",
       "        vertical-align: top;\n",
       "    }\n",
       "\n",
       "    .dataframe thead th {\n",
       "        text-align: right;\n",
       "    }\n",
       "</style>\n",
       "<table border=\"1\" class=\"dataframe\">\n",
       "  <thead>\n",
       "    <tr style=\"text-align: right;\">\n",
       "      <th></th>\n",
       "      <th>Temp</th>\n",
       "      <th>Year</th>\n",
       "      <th>Month</th>\n",
       "    </tr>\n",
       "  </thead>\n",
       "  <tbody>\n",
       "    <tr>\n",
       "      <th>0</th>\n",
       "      <td>-8.600000</td>\n",
       "      <td>1901</td>\n",
       "      <td>Jan Average</td>\n",
       "    </tr>\n",
       "    <tr>\n",
       "      <th>1</th>\n",
       "      <td>-7.900000</td>\n",
       "      <td>1901</td>\n",
       "      <td>Feb Average</td>\n",
       "    </tr>\n",
       "    <tr>\n",
       "      <th>2</th>\n",
       "      <td>4.400000</td>\n",
       "      <td>1901</td>\n",
       "      <td>Mar Average</td>\n",
       "    </tr>\n",
       "    <tr>\n",
       "      <th>3</th>\n",
       "      <td>9.400001</td>\n",
       "      <td>1901</td>\n",
       "      <td>Apr Average</td>\n",
       "    </tr>\n",
       "    <tr>\n",
       "      <th>4</th>\n",
       "      <td>13.100000</td>\n",
       "      <td>1901</td>\n",
       "      <td>May Average</td>\n",
       "    </tr>\n",
       "  </tbody>\n",
       "</table>\n",
       "</div>"
      ],
      "text/plain": [
       "        Temp  Year         Month\n",
       "0  -8.600000  1901   Jan Average\n",
       "1  -7.900000  1901   Feb Average\n",
       "2   4.400000  1901   Mar Average\n",
       "3   9.400001  1901   Apr Average\n",
       "4  13.100000  1901   May Average"
      ]
     },
     "execution_count": 35,
     "metadata": {},
     "output_type": "execute_result"
    }
   ],
   "source": [
    "# drop useless columns\n",
    "df.drop(['Longitude', 'Latitude'], axis=1, inplace=True)\n",
    "df.head()"
   ]
  },
  {
   "cell_type": "code",
   "execution_count": 36,
   "metadata": {},
   "outputs": [
    {
     "data": {
      "text/html": [
       "<div>\n",
       "<style scoped>\n",
       "    .dataframe tbody tr th:only-of-type {\n",
       "        vertical-align: middle;\n",
       "    }\n",
       "\n",
       "    .dataframe tbody tr th {\n",
       "        vertical-align: top;\n",
       "    }\n",
       "\n",
       "    .dataframe thead th {\n",
       "        text-align: right;\n",
       "    }\n",
       "</style>\n",
       "<table border=\"1\" class=\"dataframe\">\n",
       "  <thead>\n",
       "    <tr style=\"text-align: right;\">\n",
       "      <th></th>\n",
       "      <th>Temp</th>\n",
       "      <th>Year</th>\n",
       "      <th>Month</th>\n",
       "    </tr>\n",
       "  </thead>\n",
       "  <tbody>\n",
       "    <tr>\n",
       "      <th>0</th>\n",
       "      <td>-8.600000</td>\n",
       "      <td>1901</td>\n",
       "      <td>Jan</td>\n",
       "    </tr>\n",
       "    <tr>\n",
       "      <th>1</th>\n",
       "      <td>-7.900000</td>\n",
       "      <td>1901</td>\n",
       "      <td>Feb</td>\n",
       "    </tr>\n",
       "    <tr>\n",
       "      <th>2</th>\n",
       "      <td>4.400000</td>\n",
       "      <td>1901</td>\n",
       "      <td>Mar</td>\n",
       "    </tr>\n",
       "    <tr>\n",
       "      <th>3</th>\n",
       "      <td>9.400001</td>\n",
       "      <td>1901</td>\n",
       "      <td>Apr</td>\n",
       "    </tr>\n",
       "    <tr>\n",
       "      <th>4</th>\n",
       "      <td>13.100000</td>\n",
       "      <td>1901</td>\n",
       "      <td>May</td>\n",
       "    </tr>\n",
       "  </tbody>\n",
       "</table>\n",
       "</div>"
      ],
      "text/plain": [
       "        Temp  Year Month\n",
       "0  -8.600000  1901   Jan\n",
       "1  -7.900000  1901   Feb\n",
       "2   4.400000  1901   Mar\n",
       "3   9.400001  1901   Apr\n",
       "4  13.100000  1901   May"
      ]
     },
     "execution_count": 36,
     "metadata": {},
     "output_type": "execute_result"
    }
   ],
   "source": [
    "#correct Month column\n",
    "month = []\n",
    "for i in df['Month']:\n",
    "    month.append(i.split(' ')[1])\n",
    "df['Month'] = month\n",
    "df.head()"
   ]
  },
  {
   "cell_type": "code",
   "execution_count": 37,
   "metadata": {
    "scrolled": true
   },
   "outputs": [
    {
     "data": {
      "text/html": [
       "<div>\n",
       "<style scoped>\n",
       "    .dataframe tbody tr th:only-of-type {\n",
       "        vertical-align: middle;\n",
       "    }\n",
       "\n",
       "    .dataframe tbody tr th {\n",
       "        vertical-align: top;\n",
       "    }\n",
       "\n",
       "    .dataframe thead th {\n",
       "        text-align: right;\n",
       "    }\n",
       "</style>\n",
       "<table border=\"1\" class=\"dataframe\">\n",
       "  <thead>\n",
       "    <tr style=\"text-align: right;\">\n",
       "      <th></th>\n",
       "      <th>Temp</th>\n",
       "      <th>Year</th>\n",
       "      <th>Month</th>\n",
       "    </tr>\n",
       "  </thead>\n",
       "  <tbody>\n",
       "    <tr>\n",
       "      <th>5</th>\n",
       "      <td>15.800000</td>\n",
       "      <td>1901</td>\n",
       "      <td>Jun</td>\n",
       "    </tr>\n",
       "    <tr>\n",
       "      <th>6</th>\n",
       "      <td>20.400000</td>\n",
       "      <td>1901</td>\n",
       "      <td>Jul</td>\n",
       "    </tr>\n",
       "    <tr>\n",
       "      <th>17</th>\n",
       "      <td>19.400000</td>\n",
       "      <td>1902</td>\n",
       "      <td>Jun</td>\n",
       "    </tr>\n",
       "    <tr>\n",
       "      <th>18</th>\n",
       "      <td>19.800001</td>\n",
       "      <td>1902</td>\n",
       "      <td>Jul</td>\n",
       "    </tr>\n",
       "    <tr>\n",
       "      <th>29</th>\n",
       "      <td>16.600000</td>\n",
       "      <td>1903</td>\n",
       "      <td>Jun</td>\n",
       "    </tr>\n",
       "  </tbody>\n",
       "</table>\n",
       "</div>"
      ],
      "text/plain": [
       "         Temp  Year Month\n",
       "5   15.800000  1901   Jun\n",
       "6   20.400000  1901   Jul\n",
       "17  19.400000  1902   Jun\n",
       "18  19.800001  1902   Jul\n",
       "29  16.600000  1903   Jun"
      ]
     },
     "execution_count": 37,
     "metadata": {},
     "output_type": "execute_result"
    }
   ],
   "source": [
    "# select only the data we need for analysis\n",
    "df = df[(df['Month']=='Jun') | (df['Month']=='Jul')]\n",
    "df.head()"
   ]
  },
  {
   "cell_type": "markdown",
   "metadata": {},
   "source": [
    "New data comes from the other source:\n",
    "\n",
    "https://rp5.ru/Weather_archive_in_Almaty_(airport),_METAR"
   ]
  },
  {
   "cell_type": "code",
   "execution_count": 38,
   "metadata": {},
   "outputs": [
    {
     "data": {
      "text/html": [
       "<div>\n",
       "<style scoped>\n",
       "    .dataframe tbody tr th:only-of-type {\n",
       "        vertical-align: middle;\n",
       "    }\n",
       "\n",
       "    .dataframe tbody tr th {\n",
       "        vertical-align: top;\n",
       "    }\n",
       "\n",
       "    .dataframe thead th {\n",
       "        text-align: right;\n",
       "    }\n",
       "</style>\n",
       "<table border=\"1\" class=\"dataframe\">\n",
       "  <thead>\n",
       "    <tr style=\"text-align: right;\">\n",
       "      <th></th>\n",
       "      <th>Temp</th>\n",
       "      <th>Year</th>\n",
       "      <th>Month</th>\n",
       "    </tr>\n",
       "  </thead>\n",
       "  <tbody>\n",
       "    <tr>\n",
       "      <th>0</th>\n",
       "      <td>21.0</td>\n",
       "      <td>2013</td>\n",
       "      <td>Jun</td>\n",
       "    </tr>\n",
       "    <tr>\n",
       "      <th>1</th>\n",
       "      <td>23.5</td>\n",
       "      <td>2013</td>\n",
       "      <td>Jul</td>\n",
       "    </tr>\n",
       "    <tr>\n",
       "      <th>2</th>\n",
       "      <td>22.6</td>\n",
       "      <td>2014</td>\n",
       "      <td>Jun</td>\n",
       "    </tr>\n",
       "    <tr>\n",
       "      <th>3</th>\n",
       "      <td>24.3</td>\n",
       "      <td>2014</td>\n",
       "      <td>Jul</td>\n",
       "    </tr>\n",
       "    <tr>\n",
       "      <th>4</th>\n",
       "      <td>22.3</td>\n",
       "      <td>2015</td>\n",
       "      <td>Jun</td>\n",
       "    </tr>\n",
       "  </tbody>\n",
       "</table>\n",
       "</div>"
      ],
      "text/plain": [
       "   Temp  Year Month\n",
       "0  21.0  2013   Jun\n",
       "1  23.5  2013   Jul\n",
       "2  22.6  2014   Jun\n",
       "3  24.3  2014   Jul\n",
       "4  22.3  2015   Jun"
      ]
     },
     "execution_count": 38,
     "metadata": {},
     "output_type": "execute_result"
    }
   ],
   "source": [
    "# new data isn't organized in csv file, so I enter it manually here.\n",
    "new_data = [[21.0, 2013, 'Jun'], [23.5, 2013, 'Jul'], \n",
    "            [22.6, 2014, 'Jun'], [24.3, 2014, 'Jul'],\n",
    "            [22.3, 2015, 'Jun'], [26.6, 2015, 'Jul'],\n",
    "            [22.4, 2016, 'Jun'], [22.9, 2016, 'Jul'],\n",
    "            [21.8, 2017, 'Jun'], [25.8, 2017, 'Jul'],\n",
    "            [21.5, 2018, 'Jun'], [24.6, 2018, 'Jul'],\n",
    "            [21.8, 2019, 'Jun'], [26.5, 2019, 'Jul'],\n",
    "            [21.8, 2020, 'Jun'], [24.1, 2020, 'Jul']]\n",
    "\n",
    "# convert new data to a dataframe\n",
    "new_data = pd.DataFrame(new_data, columns=['Temp', 'Year', 'Month'])\n",
    "new_data.head()"
   ]
  },
  {
   "cell_type": "markdown",
   "metadata": {},
   "source": [
    "We can check differences in the data using common periods."
   ]
  },
  {
   "cell_type": "code",
   "execution_count": 39,
   "metadata": {},
   "outputs": [
    {
     "data": {
      "text/plain": [
       "0    0.966667\n",
       "1    0.982979\n",
       "2    0.946903\n",
       "3    0.967078\n",
       "4    0.941704\n",
       "5    0.962406\n",
       "6    0.968750\n",
       "7    0.986900\n",
       "Name: Temp, dtype: float64"
      ]
     },
     "execution_count": 39,
     "metadata": {},
     "output_type": "execute_result"
    }
   ],
   "source": [
    "# The temperature in the new source is always higher, so it is better to correct it\n",
    "df[df['Year']>=2013]['Temp'].reset_index()['Temp']/new_data[new_data['Year']<2017]['Temp']"
   ]
  },
  {
   "cell_type": "code",
   "execution_count": 40,
   "metadata": {},
   "outputs": [],
   "source": [
    "# we correct new values like they were taken from the World Bank data\n",
    "correction = np.mean(df[df['Year']>=2013]['Temp'].reset_index()['Temp']/new_data[new_data['Year']<2017]['Temp'])"
   ]
  },
  {
   "cell_type": "code",
   "execution_count": 41,
   "metadata": {},
   "outputs": [
    {
     "data": {
      "text/html": [
       "<div>\n",
       "<style scoped>\n",
       "    .dataframe tbody tr th:only-of-type {\n",
       "        vertical-align: middle;\n",
       "    }\n",
       "\n",
       "    .dataframe tbody tr th {\n",
       "        vertical-align: top;\n",
       "    }\n",
       "\n",
       "    .dataframe thead th {\n",
       "        text-align: right;\n",
       "    }\n",
       "</style>\n",
       "<table border=\"1\" class=\"dataframe\">\n",
       "  <thead>\n",
       "    <tr style=\"text-align: right;\">\n",
       "      <th></th>\n",
       "      <th>Temp</th>\n",
       "      <th>Year</th>\n",
       "      <th>Month</th>\n",
       "    </tr>\n",
       "  </thead>\n",
       "  <tbody>\n",
       "    <tr>\n",
       "      <th>0</th>\n",
       "      <td>20.3</td>\n",
       "      <td>2013</td>\n",
       "      <td>Jun</td>\n",
       "    </tr>\n",
       "    <tr>\n",
       "      <th>1</th>\n",
       "      <td>22.7</td>\n",
       "      <td>2013</td>\n",
       "      <td>Jul</td>\n",
       "    </tr>\n",
       "    <tr>\n",
       "      <th>2</th>\n",
       "      <td>21.8</td>\n",
       "      <td>2014</td>\n",
       "      <td>Jun</td>\n",
       "    </tr>\n",
       "    <tr>\n",
       "      <th>3</th>\n",
       "      <td>23.5</td>\n",
       "      <td>2014</td>\n",
       "      <td>Jul</td>\n",
       "    </tr>\n",
       "    <tr>\n",
       "      <th>4</th>\n",
       "      <td>21.5</td>\n",
       "      <td>2015</td>\n",
       "      <td>Jun</td>\n",
       "    </tr>\n",
       "  </tbody>\n",
       "</table>\n",
       "</div>"
      ],
      "text/plain": [
       "   Temp  Year Month\n",
       "0  20.3  2013   Jun\n",
       "1  22.7  2013   Jul\n",
       "2  21.8  2014   Jun\n",
       "3  23.5  2014   Jul\n",
       "4  21.5  2015   Jun"
      ]
     },
     "execution_count": 41,
     "metadata": {},
     "output_type": "execute_result"
    }
   ],
   "source": [
    "# apply correction\n",
    "new_data['Temp'] = (new_data['Temp']*correction).round(decimals=1)\n",
    "new_data.head()"
   ]
  },
  {
   "cell_type": "code",
   "execution_count": 42,
   "metadata": {},
   "outputs": [
    {
     "data": {
      "text/plain": [
       "0.9999224805136799"
      ]
     },
     "execution_count": 42,
     "metadata": {},
     "output_type": "execute_result"
    }
   ],
   "source": [
    "# check if everything was ok with correction\n",
    "np.mean(df[df['Year']>=2013]['Temp'].reset_index()['Temp']/new_data[new_data['Year']<2017]['Temp'])\n",
    "\n",
    "# Once I accidentally run this piece twice and got wrong numbers, so be careful."
   ]
  },
  {
   "cell_type": "code",
   "execution_count": 43,
   "metadata": {},
   "outputs": [],
   "source": [
    "# as data for years 2013-2016 is the same, we drop it from the new dataframe\n",
    "new_data = new_data[new_data['Year']>2016]"
   ]
  },
  {
   "cell_type": "code",
   "execution_count": 44,
   "metadata": {},
   "outputs": [
    {
     "data": {
      "text/html": [
       "<div>\n",
       "<style scoped>\n",
       "    .dataframe tbody tr th:only-of-type {\n",
       "        vertical-align: middle;\n",
       "    }\n",
       "\n",
       "    .dataframe tbody tr th {\n",
       "        vertical-align: top;\n",
       "    }\n",
       "\n",
       "    .dataframe thead th {\n",
       "        text-align: right;\n",
       "    }\n",
       "</style>\n",
       "<table border=\"1\" class=\"dataframe\">\n",
       "  <thead>\n",
       "    <tr style=\"text-align: right;\">\n",
       "      <th></th>\n",
       "      <th>Temp</th>\n",
       "      <th>Year</th>\n",
       "      <th>Month</th>\n",
       "    </tr>\n",
       "  </thead>\n",
       "  <tbody>\n",
       "    <tr>\n",
       "      <th>235</th>\n",
       "      <td>23.7</td>\n",
       "      <td>2018</td>\n",
       "      <td>Jul</td>\n",
       "    </tr>\n",
       "    <tr>\n",
       "      <th>236</th>\n",
       "      <td>21.0</td>\n",
       "      <td>2019</td>\n",
       "      <td>Jun</td>\n",
       "    </tr>\n",
       "    <tr>\n",
       "      <th>237</th>\n",
       "      <td>25.6</td>\n",
       "      <td>2019</td>\n",
       "      <td>Jul</td>\n",
       "    </tr>\n",
       "    <tr>\n",
       "      <th>238</th>\n",
       "      <td>21.0</td>\n",
       "      <td>2020</td>\n",
       "      <td>Jun</td>\n",
       "    </tr>\n",
       "    <tr>\n",
       "      <th>239</th>\n",
       "      <td>23.3</td>\n",
       "      <td>2020</td>\n",
       "      <td>Jul</td>\n",
       "    </tr>\n",
       "  </tbody>\n",
       "</table>\n",
       "</div>"
      ],
      "text/plain": [
       "     Temp  Year Month\n",
       "235  23.7  2018   Jul\n",
       "236  21.0  2019   Jun\n",
       "237  25.6  2019   Jul\n",
       "238  21.0  2020   Jun\n",
       "239  23.3  2020   Jul"
      ]
     },
     "execution_count": 44,
     "metadata": {},
     "output_type": "execute_result"
    }
   ],
   "source": [
    "# join two datasets together\n",
    "df = df.append(new_data).reset_index().drop(columns='index', axis=1)\n",
    "df.tail()"
   ]
  },
  {
   "cell_type": "code",
   "execution_count": 45,
   "metadata": {},
   "outputs": [
    {
     "data": {
      "text/html": [
       "<div>\n",
       "<style scoped>\n",
       "    .dataframe tbody tr th:only-of-type {\n",
       "        vertical-align: middle;\n",
       "    }\n",
       "\n",
       "    .dataframe tbody tr th {\n",
       "        vertical-align: top;\n",
       "    }\n",
       "\n",
       "    .dataframe thead th {\n",
       "        text-align: right;\n",
       "    }\n",
       "</style>\n",
       "<table border=\"1\" class=\"dataframe\">\n",
       "  <thead>\n",
       "    <tr style=\"text-align: right;\">\n",
       "      <th></th>\n",
       "      <th>Temp</th>\n",
       "      <th>Year</th>\n",
       "      <th>Month</th>\n",
       "      <th>Date</th>\n",
       "    </tr>\n",
       "  </thead>\n",
       "  <tbody>\n",
       "    <tr>\n",
       "      <th>0</th>\n",
       "      <td>15.800000</td>\n",
       "      <td>1901</td>\n",
       "      <td>Jun</td>\n",
       "      <td>01 Jun 1901</td>\n",
       "    </tr>\n",
       "    <tr>\n",
       "      <th>1</th>\n",
       "      <td>20.400000</td>\n",
       "      <td>1901</td>\n",
       "      <td>Jul</td>\n",
       "      <td>01 Jul 1901</td>\n",
       "    </tr>\n",
       "    <tr>\n",
       "      <th>2</th>\n",
       "      <td>19.400000</td>\n",
       "      <td>1902</td>\n",
       "      <td>Jun</td>\n",
       "      <td>01 Jun 1902</td>\n",
       "    </tr>\n",
       "    <tr>\n",
       "      <th>3</th>\n",
       "      <td>19.800001</td>\n",
       "      <td>1902</td>\n",
       "      <td>Jul</td>\n",
       "      <td>01 Jul 1902</td>\n",
       "    </tr>\n",
       "    <tr>\n",
       "      <th>4</th>\n",
       "      <td>16.600000</td>\n",
       "      <td>1903</td>\n",
       "      <td>Jun</td>\n",
       "      <td>01 Jun 1903</td>\n",
       "    </tr>\n",
       "  </tbody>\n",
       "</table>\n",
       "</div>"
      ],
      "text/plain": [
       "        Temp  Year Month         Date\n",
       "0  15.800000  1901   Jun  01 Jun 1901\n",
       "1  20.400000  1901   Jul  01 Jul 1901\n",
       "2  19.400000  1902   Jun  01 Jun 1902\n",
       "3  19.800001  1902   Jul  01 Jul 1902\n",
       "4  16.600000  1903   Jun  01 Jun 1903"
      ]
     },
     "execution_count": 45,
     "metadata": {},
     "output_type": "execute_result"
    }
   ],
   "source": [
    "# create a column with Date\n",
    "df['Date'] = '01 ' + df['Month'] + ' ' + df['Year'].astype(str)\n",
    "df.head()"
   ]
  },
  {
   "cell_type": "code",
   "execution_count": 46,
   "metadata": {},
   "outputs": [
    {
     "data": {
      "text/html": [
       "<div>\n",
       "<style scoped>\n",
       "    .dataframe tbody tr th:only-of-type {\n",
       "        vertical-align: middle;\n",
       "    }\n",
       "\n",
       "    .dataframe tbody tr th {\n",
       "        vertical-align: top;\n",
       "    }\n",
       "\n",
       "    .dataframe thead th {\n",
       "        text-align: right;\n",
       "    }\n",
       "</style>\n",
       "<table border=\"1\" class=\"dataframe\">\n",
       "  <thead>\n",
       "    <tr style=\"text-align: right;\">\n",
       "      <th></th>\n",
       "      <th>Temp</th>\n",
       "      <th>Year</th>\n",
       "      <th>Month</th>\n",
       "      <th>Date</th>\n",
       "    </tr>\n",
       "  </thead>\n",
       "  <tbody>\n",
       "    <tr>\n",
       "      <th>0</th>\n",
       "      <td>15.800000</td>\n",
       "      <td>1901</td>\n",
       "      <td>Jun</td>\n",
       "      <td>1901-06-01</td>\n",
       "    </tr>\n",
       "    <tr>\n",
       "      <th>1</th>\n",
       "      <td>20.400000</td>\n",
       "      <td>1901</td>\n",
       "      <td>Jul</td>\n",
       "      <td>1901-07-01</td>\n",
       "    </tr>\n",
       "    <tr>\n",
       "      <th>2</th>\n",
       "      <td>19.400000</td>\n",
       "      <td>1902</td>\n",
       "      <td>Jun</td>\n",
       "      <td>1902-06-01</td>\n",
       "    </tr>\n",
       "    <tr>\n",
       "      <th>3</th>\n",
       "      <td>19.800001</td>\n",
       "      <td>1902</td>\n",
       "      <td>Jul</td>\n",
       "      <td>1902-07-01</td>\n",
       "    </tr>\n",
       "    <tr>\n",
       "      <th>4</th>\n",
       "      <td>16.600000</td>\n",
       "      <td>1903</td>\n",
       "      <td>Jun</td>\n",
       "      <td>1903-06-01</td>\n",
       "    </tr>\n",
       "  </tbody>\n",
       "</table>\n",
       "</div>"
      ],
      "text/plain": [
       "        Temp  Year Month       Date\n",
       "0  15.800000  1901   Jun 1901-06-01\n",
       "1  20.400000  1901   Jul 1901-07-01\n",
       "2  19.400000  1902   Jun 1902-06-01\n",
       "3  19.800001  1902   Jul 1902-07-01\n",
       "4  16.600000  1903   Jun 1903-06-01"
      ]
     },
     "execution_count": 46,
     "metadata": {},
     "output_type": "execute_result"
    }
   ],
   "source": [
    "# convert df column to datetime format\n",
    "df['Date'] = pd.to_datetime(df['Date']) \n",
    "df.head()"
   ]
  },
  {
   "cell_type": "code",
   "execution_count": 47,
   "metadata": {},
   "outputs": [
    {
     "data": {
      "text/html": [
       "<div>\n",
       "<style scoped>\n",
       "    .dataframe tbody tr th:only-of-type {\n",
       "        vertical-align: middle;\n",
       "    }\n",
       "\n",
       "    .dataframe tbody tr th {\n",
       "        vertical-align: top;\n",
       "    }\n",
       "\n",
       "    .dataframe thead th {\n",
       "        text-align: right;\n",
       "    }\n",
       "</style>\n",
       "<table border=\"1\" class=\"dataframe\">\n",
       "  <thead>\n",
       "    <tr style=\"text-align: right;\">\n",
       "      <th></th>\n",
       "      <th>Temp</th>\n",
       "      <th>Date</th>\n",
       "    </tr>\n",
       "  </thead>\n",
       "  <tbody>\n",
       "    <tr>\n",
       "      <th>0</th>\n",
       "      <td>15.800000</td>\n",
       "      <td>1901-06-01</td>\n",
       "    </tr>\n",
       "    <tr>\n",
       "      <th>1</th>\n",
       "      <td>20.400000</td>\n",
       "      <td>1901-07-01</td>\n",
       "    </tr>\n",
       "    <tr>\n",
       "      <th>2</th>\n",
       "      <td>19.400000</td>\n",
       "      <td>1902-06-01</td>\n",
       "    </tr>\n",
       "    <tr>\n",
       "      <th>3</th>\n",
       "      <td>19.800001</td>\n",
       "      <td>1902-07-01</td>\n",
       "    </tr>\n",
       "    <tr>\n",
       "      <th>4</th>\n",
       "      <td>16.600000</td>\n",
       "      <td>1903-06-01</td>\n",
       "    </tr>\n",
       "  </tbody>\n",
       "</table>\n",
       "</div>"
      ],
      "text/plain": [
       "        Temp       Date\n",
       "0  15.800000 1901-06-01\n",
       "1  20.400000 1901-07-01\n",
       "2  19.400000 1902-06-01\n",
       "3  19.800001 1902-07-01\n",
       "4  16.600000 1903-06-01"
      ]
     },
     "execution_count": 47,
     "metadata": {},
     "output_type": "execute_result"
    }
   ],
   "source": [
    "# we don't need Year and Month columns anymore\n",
    "df.drop(columns=['Year', 'Month'], axis=1, inplace=True)\n",
    "df.head()"
   ]
  },
  {
   "cell_type": "code",
   "execution_count": 48,
   "metadata": {},
   "outputs": [
    {
     "data": {
      "text/html": [
       "<div>\n",
       "<style scoped>\n",
       "    .dataframe tbody tr th:only-of-type {\n",
       "        vertical-align: middle;\n",
       "    }\n",
       "\n",
       "    .dataframe tbody tr th {\n",
       "        vertical-align: top;\n",
       "    }\n",
       "\n",
       "    .dataframe thead th {\n",
       "        text-align: right;\n",
       "    }\n",
       "</style>\n",
       "<table border=\"1\" class=\"dataframe\">\n",
       "  <thead>\n",
       "    <tr style=\"text-align: right;\">\n",
       "      <th></th>\n",
       "      <th>Temp</th>\n",
       "    </tr>\n",
       "    <tr>\n",
       "      <th>Date</th>\n",
       "      <th></th>\n",
       "    </tr>\n",
       "  </thead>\n",
       "  <tbody>\n",
       "    <tr>\n",
       "      <th>2020-06-01</th>\n",
       "      <td>21.0</td>\n",
       "    </tr>\n",
       "    <tr>\n",
       "      <th>2020-07-01</th>\n",
       "      <td>23.3</td>\n",
       "    </tr>\n",
       "  </tbody>\n",
       "</table>\n",
       "</div>"
      ],
      "text/plain": [
       "            Temp\n",
       "Date            \n",
       "2020-06-01  21.0\n",
       "2020-07-01  23.3"
      ]
     },
     "execution_count": 48,
     "metadata": {},
     "output_type": "execute_result"
    }
   ],
   "source": [
    "# create df from year 2020 data\n",
    "new = df[df['Date']>='2020-01-01'].set_index('Date')\n",
    "new.head()"
   ]
  },
  {
   "cell_type": "code",
   "execution_count": 49,
   "metadata": {},
   "outputs": [
    {
     "data": {
      "text/html": [
       "<div>\n",
       "<style scoped>\n",
       "    .dataframe tbody tr th:only-of-type {\n",
       "        vertical-align: middle;\n",
       "    }\n",
       "\n",
       "    .dataframe tbody tr th {\n",
       "        vertical-align: top;\n",
       "    }\n",
       "\n",
       "    .dataframe thead th {\n",
       "        text-align: right;\n",
       "    }\n",
       "</style>\n",
       "<table border=\"1\" class=\"dataframe\">\n",
       "  <thead>\n",
       "    <tr style=\"text-align: right;\">\n",
       "      <th></th>\n",
       "      <th>Temp</th>\n",
       "    </tr>\n",
       "    <tr>\n",
       "      <th>Date</th>\n",
       "      <th></th>\n",
       "    </tr>\n",
       "  </thead>\n",
       "  <tbody>\n",
       "    <tr>\n",
       "      <th>1901-06-01</th>\n",
       "      <td>15.800000</td>\n",
       "    </tr>\n",
       "    <tr>\n",
       "      <th>1901-07-01</th>\n",
       "      <td>20.400000</td>\n",
       "    </tr>\n",
       "    <tr>\n",
       "      <th>1902-06-01</th>\n",
       "      <td>19.400000</td>\n",
       "    </tr>\n",
       "    <tr>\n",
       "      <th>1902-07-01</th>\n",
       "      <td>19.800001</td>\n",
       "    </tr>\n",
       "    <tr>\n",
       "      <th>1903-06-01</th>\n",
       "      <td>16.600000</td>\n",
       "    </tr>\n",
       "  </tbody>\n",
       "</table>\n",
       "</div>"
      ],
      "text/plain": [
       "                 Temp\n",
       "Date                 \n",
       "1901-06-01  15.800000\n",
       "1901-07-01  20.400000\n",
       "1902-06-01  19.400000\n",
       "1902-07-01  19.800001\n",
       "1903-06-01  16.600000"
      ]
     },
     "execution_count": 49,
     "metadata": {},
     "output_type": "execute_result"
    }
   ],
   "source": [
    "# create df from data before the year 2020\n",
    "old = df[df['Date']<'2020-01-01'].set_index('Date')\n",
    "old.head()"
   ]
  },
  {
   "cell_type": "code",
   "execution_count": 50,
   "metadata": {},
   "outputs": [
    {
     "data": {
      "text/plain": [
       "Ttest_indResult(statistic=array([0.84609939]), pvalue=array([0.39834718]))"
      ]
     },
     "execution_count": 50,
     "metadata": {},
     "output_type": "execute_result"
    }
   ],
   "source": [
    "# let's compare new year data to previous years\n",
    "ttest_ind(new, old)"
   ]
  },
  {
   "cell_type": "code",
   "execution_count": 51,
   "metadata": {},
   "outputs": [],
   "source": [
    "# create lists of t-statistics and p-values by years\n",
    "statistic = []\n",
    "p_value = []\n",
    "for year in df['Date'].dt.year.unique():\n",
    "    statistic.append(ttest_ind(df[df['Date'].dt.year==year].set_index('Date'), \n",
    "                              df[df['Date'].dt.year<year].set_index('Date'))[0])\n",
    "    p_value.append(ttest_ind(df[df['Date'].dt.year==year].set_index('Date'), \n",
    "                            df[df['Date'].dt.year<year].set_index('Date'))[1])            "
   ]
  },
  {
   "cell_type": "code",
   "execution_count": 52,
   "metadata": {
    "scrolled": true
   },
   "outputs": [
    {
     "data": {
      "text/plain": [
       "[array([0.04092086])]"
      ]
     },
     "execution_count": 52,
     "metadata": {},
     "output_type": "execute_result"
    }
   ],
   "source": [
    "# only one year is different enough from the historic data to confirm the alternative hypothesis\n",
    "different = []\n",
    "for value in p_value:\n",
    "    if value <=0.05:\n",
    "        different.append(value)\n",
    "else:\n",
    "    pass\n",
    "different"
   ]
  },
  {
   "cell_type": "code",
   "execution_count": 53,
   "metadata": {},
   "outputs": [],
   "source": [
    "# this code puts indexes of p-values in a list. This will help me to find the years with outliers\n",
    "p_value_index = []\n",
    "row_num=-1\n",
    "for value in p_value:\n",
    "    row_num+=1\n",
    "    if value in different:\n",
    "        p_value_index.append(row_num)\n",
    "else:\n",
    "    pass"
   ]
  },
  {
   "cell_type": "code",
   "execution_count": 54,
   "metadata": {},
   "outputs": [],
   "source": [
    "# create a list of years, where p_value is <=0.05\n",
    "years = []\n",
    "for index in p_value_index:\n",
    "    years.append(df['Date'].dt.year.unique()[index])"
   ]
  },
  {
   "cell_type": "code",
   "execution_count": 55,
   "metadata": {
    "scrolled": true
   },
   "outputs": [
    {
     "data": {
      "text/html": [
       "<div>\n",
       "<style scoped>\n",
       "    .dataframe tbody tr th:only-of-type {\n",
       "        vertical-align: middle;\n",
       "    }\n",
       "\n",
       "    .dataframe tbody tr th {\n",
       "        vertical-align: top;\n",
       "    }\n",
       "\n",
       "    .dataframe thead th {\n",
       "        text-align: right;\n",
       "    }\n",
       "</style>\n",
       "<table border=\"1\" class=\"dataframe\">\n",
       "  <thead>\n",
       "    <tr style=\"text-align: right;\">\n",
       "      <th></th>\n",
       "      <th>Temp</th>\n",
       "      <th>Date</th>\n",
       "    </tr>\n",
       "  </thead>\n",
       "  <tbody>\n",
       "    <tr>\n",
       "      <th>214</th>\n",
       "      <td>22.9</td>\n",
       "      <td>2008-06-01</td>\n",
       "    </tr>\n",
       "    <tr>\n",
       "      <th>215</th>\n",
       "      <td>24.1</td>\n",
       "      <td>2008-07-01</td>\n",
       "    </tr>\n",
       "  </tbody>\n",
       "</table>\n",
       "</div>"
      ],
      "text/plain": [
       "     Temp       Date\n",
       "214  22.9 2008-06-01\n",
       "215  24.1 2008-07-01"
      ]
     },
     "execution_count": 55,
     "metadata": {},
     "output_type": "execute_result"
    }
   ],
   "source": [
    "# create a dataframe with outliers\n",
    "outliers = df[df['Date'].dt.year.isin(years)]\n",
    "outliers"
   ]
  },
  {
   "cell_type": "code",
   "execution_count": 56,
   "metadata": {},
   "outputs": [
    {
     "name": "stdout",
     "output_type": "stream",
     "text": [
      "Outlier temperature is 23.50\n",
      "Average temperature mean is 21.07\n",
      "The difference to become an outlier is 12 percent\n"
     ]
    }
   ],
   "source": [
    "print('Outlier temperature is {:.2f}'.format(outliers['Temp'].mean()))\n",
    "print('Average temperature mean is {:.2f}'.format(df['Temp'].mean()))\n",
    "print('The difference to become an outlier is {:.0f}'.format((outliers['Temp'].mean()\n",
    "                                                       /df['Temp'].mean()-1)*100) + ' percent')"
   ]
  },
  {
   "cell_type": "code",
   "execution_count": 57,
   "metadata": {},
   "outputs": [
    {
     "data": {
      "text/plain": [
       "22.15"
      ]
     },
     "execution_count": 57,
     "metadata": {},
     "output_type": "execute_result"
    }
   ],
   "source": [
    "# summer temperature for 2 months in 2020\n",
    "temp_2020 = df[df['Date'].dt.year==2020]['Temp'].mean() \n",
    "temp_2020"
   ]
  },
  {
   "cell_type": "code",
   "execution_count": 58,
   "metadata": {},
   "outputs": [],
   "source": [
    "# create a variable with the current difference\n",
    "cur_dif = (temp_2020 / df[df['Date'].dt.year<2020]['Temp'].mean() -1)*100"
   ]
  },
  {
   "cell_type": "code",
   "execution_count": 59,
   "metadata": {},
   "outputs": [
    {
     "data": {
      "text/plain": [
       "'2020 Jun-Jul temperature differs from historical observations only by 5.2 percent'"
      ]
     },
     "execution_count": 59,
     "metadata": {},
     "output_type": "execute_result"
    }
   ],
   "source": [
    "'2020 Jun-Jul temperature differs from historical observations only by {:.1f}'.format(cur_dif) + ' percent'"
   ]
  },
  {
   "cell_type": "code",
   "execution_count": 60,
   "metadata": {},
   "outputs": [],
   "source": [
    "# we need x, y to draw a linear regression line\n",
    "x = df.groupby(df['Date'].dt.year).mean()['Temp'].index.values.reshape(-1,1)\n",
    "y = df.groupby(df['Date'].dt.year).mean()['Temp'].values.reshape(-1,1)"
   ]
  },
  {
   "cell_type": "code",
   "execution_count": 61,
   "metadata": {},
   "outputs": [
    {
     "data": {
      "text/plain": [
       "LinearRegression(copy_X=True, fit_intercept=True, n_jobs=1, normalize=False)"
      ]
     },
     "execution_count": 61,
     "metadata": {},
     "output_type": "execute_result"
    }
   ],
   "source": [
    "# create and fit the model\n",
    "model = LinearRegression()\n",
    "model.fit(x, y)"
   ]
  },
  {
   "cell_type": "code",
   "execution_count": 62,
   "metadata": {
    "scrolled": false
   },
   "outputs": [
    {
     "data": {
      "image/png": "[encoded data removed]",
      "text/plain": [
       "<Figure size 432x288 with 1 Axes>"
      ]
     },
     "metadata": {
      "needs_background": "light"
     },
     "output_type": "display_data"
    }
   ],
   "source": [
    "# plot temperature trend\n",
    "fig, ax = plt.subplots()\n",
    "ax.plot(df.groupby(df['Date'].dt.year).mean())\n",
    "ax.plot(x, model.predict(x))\n",
    "plt.ylabel('Temperature')\n",
    "plt.title('Average temperature in the first two summer months is growing')\n",
    "plt.savefig('Almaty_Temp_Jun_Jul.png')"
   ]
  },
  {
   "cell_type": "markdown",
   "metadata": {},
   "source": [
    "## Conclusions\n",
    "- The temperature in the first two months of summer 2020 wasn't abnormal enough to become an outlier with significant p-value to confirm the alternative hypothesis.\n",
    "- 2/3 of 2020 summer were 5.2% warmer than previous historical data mean, but that isn't enough to become an outlier.\n",
    "- Having more than 100 years of historical data, only the temperature of one year was significantly different, than previous data. It was the year 2008.\n",
    "- During the 120 years, temperature trend has risen by 2 degrees or 10%. The temperature rise can seriously affect the life of local citizens and local ecosystems."
   ]
  }
 ],
 "metadata": {
  "kernelspec": {
   "display_name": "Python 3",
   "language": "python",
   "name": "python3"
  },
  "language_info": {
   "codemirror_mode": {
    "name": "ipython",
    "version": 3
   },
   "file_extension": ".py",
   "mimetype": "text/x-python",
   "name": "python",
   "nbconvert_exporter": "python",
   "pygments_lexer": "ipython3",
   "version": "3.7.0"
  }
 },
 "nbformat": 4,
 "nbformat_minor": 2
}
